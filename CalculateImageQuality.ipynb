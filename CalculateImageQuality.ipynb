{
 "cells": [
  {
   "cell_type": "code",
   "execution_count": 1,
   "id": "aa4308a0-68a0-43a1-934c-b28b7a9a2ce0",
   "metadata": {
    "scrolled": true
   },
   "outputs": [],
   "source": [
    "import csv\n",
    "import os\n",
    "import torch\n",
    "import optree\n",
    "import pyiqa\n",
    "import numpy as np\n",
    "# https://pypi.org/project/pyiqa/"
   ]
  },
  {
   "cell_type": "code",
   "execution_count": 2,
   "id": "a5710270-9e96-4f0d-8179-3c695b53e48c",
   "metadata": {},
   "outputs": [
    {
     "name": "stdout",
     "output_type": "stream",
     "text": [
      "cuda\n"
     ]
    }
   ],
   "source": [
    "device = torch.device(\"cuda\") if torch.cuda.is_available() else torch.device(\"cpu\")\n",
    "print(device)"
   ]
  },
  {
   "cell_type": "code",
   "execution_count": 3,
   "id": "beab07ed-8b2c-46d2-90bc-cc911f4e4242",
   "metadata": {},
   "outputs": [],
   "source": [
    "# set input dir\n",
    "input_dir = './OutputSurvey/'\n",
    "content_dir = './ContentImages/'\n",
    "\n",
    "# list all available metrics\n",
    "#print(pyiqa.list_models())"
   ]
  },
  {
   "cell_type": "code",
   "execution_count": 4,
   "id": "bd46d2ee-b549-4bbb-8193-725555f36306",
   "metadata": {},
   "outputs": [
    {
     "name": "stdout",
     "output_type": "stream",
     "text": [
      "Loading pretrained model LPIPS from /home/andy/.cache/torch/hub/pyiqa/LPIPS_v0.1_alex-df73285e.pth\n"
     ]
    }
   ],
   "source": [
    "#FR Metrics\n",
    "#fid_metric = pyiqa.create_metric('fid',device=device)\n",
    "fsim_metric = pyiqa.create_metric('fsim',device=device)\n",
    "lpips_metric = pyiqa.create_metric('lpips',device=device)\n",
    "psnr_metric = pyiqa.create_metric('psnr',device=device)\n",
    "ssim_metric = pyiqa.create_metric('ssim',device=device)\n",
    "\n",
    "#NR Metrics\n",
    "brisque_metric = pyiqa.create_metric('brisque',device=device)\n",
    "niqe_metric = pyiqa.create_metric('niqe',device=device)\n",
    "piqe_metric = pyiqa.create_metric('piqe',device=device)\n",
    "\n",
    "frmetric_block = [fsim_metric, lpips_metric, psnr_metric, ssim_metric]\n",
    "nrmetric_block = [brisque_metric, niqe_metric, piqe_metric]"
   ]
  },
  {
   "cell_type": "code",
   "execution_count": 6,
   "id": "bc230964-cde4-4871-84ee-a5bcf6f21e05",
   "metadata": {},
   "outputs": [
    {
     "name": "stdout",
     "output_type": "stream",
     "text": [
      "finished\n"
     ]
    }
   ],
   "source": [
    "with open('image_quality_survey.csv', 'w', newline='') as csvfile:\n",
    "    csvwriter = csv.writer(csvfile)\n",
    "    \n",
    "    #Create the header\n",
    "    headerblock = ['file name', 'content source', 'art style', 'network']\n",
    "    for item in frmetric_block:\n",
    "        headerblock.append(item.metric_name)\n",
    "    for item in nrmetric_block:\n",
    "        headerblock.append(item.metric_name)\n",
    "    csvwriter.writerow(headerblock)\n",
    "\n",
    "    #Create each row\n",
    "    files = os.listdir(input_dir)\n",
    "    for file in files:\n",
    "        if not file.endswith('.jpeg'):\n",
    "            continue\n",
    "        filepath = input_dir + file\n",
    "        content = file.split('_')[2]\n",
    "        art_style = file.split('_')[1]\n",
    "        network = file.split('_')[0]\n",
    "        contentpath = content_dir + content\n",
    "        row = [file, content, art_style, network]\n",
    "        for item in frmetric_block:\n",
    "            row.append(item(filepath, contentpath).item())\n",
    "        for item in nrmetric_block:\n",
    "            row.append(item(filepath).item())\n",
    "        csvwriter.writerow(row)\n",
    "print(\"finished\")"
   ]
  },
  {
   "cell_type": "code",
   "execution_count": 19,
   "id": "a29423ee-54b1-4054-a6c1-37d078c266be",
   "metadata": {},
   "outputs": [
    {
     "name": "stdout",
     "output_type": "stream",
     "text": [
      "Metric   Lower is Better?\n",
      "fsim     False\n",
      "lpips    True\n",
      "psnr     False\n",
      "ssim     False\n",
      "brisque  True\n",
      "niqe     True\n",
      "piqe     True\n"
     ]
    }
   ],
   "source": [
    "print(\"Metric   Lower is Better?\")\n",
    "for metric in np.concatenate((frmetric_block,nrmetric_block)):\n",
    "    print(f\"{metric.metric_name:<8} {metric.lower_better}\")\n",
    "\n"
   ]
  },
  {
   "cell_type": "code",
   "execution_count": 13,
   "id": "4b14a06b-cc15-4dbf-8fd3-58fa26b121fc",
   "metadata": {},
   "outputs": [
    {
     "data": {
      "text/plain": [
       "'./Output6/SqueezeNet_VG2_Autumn.jpeg'"
      ]
     },
     "execution_count": 13,
     "metadata": {},
     "output_type": "execute_result"
    }
   ],
   "source": [
    "filepath"
   ]
  },
  {
   "cell_type": "code",
   "execution_count": null,
   "id": "36776f9f-6ca6-4053-8ec6-46cca554d514",
   "metadata": {},
   "outputs": [],
   "source": []
  },
  {
   "cell_type": "code",
   "execution_count": null,
   "id": "f66d0229-6bf8-4462-9eed-1e899431f0c0",
   "metadata": {},
   "outputs": [],
   "source": []
  }
 ],
 "metadata": {
  "kernelspec": {
   "display_name": "Python 3 (ipykernel)",
   "language": "python",
   "name": "python3"
  },
  "language_info": {
   "codemirror_mode": {
    "name": "ipython",
    "version": 3
   },
   "file_extension": ".py",
   "mimetype": "text/x-python",
   "name": "python",
   "nbconvert_exporter": "python",
   "pygments_lexer": "ipython3",
   "version": "3.13.7"
  }
 },
 "nbformat": 4,
 "nbformat_minor": 5
}
