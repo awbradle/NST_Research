{
 "cells": [
  {
   "cell_type": "code",
   "execution_count": 1,
   "id": "0918035e-d412-45a8-a099-95e468988ad6",
   "metadata": {},
   "outputs": [],
   "source": [
    "import matplotlib\n",
    "import numpy as np\n",
    "import csv"
   ]
  },
  {
   "cell_type": "code",
   "execution_count": 2,
   "id": "1c7b672f-13f6-4b8b-919a-99688ab0c04f",
   "metadata": {},
   "outputs": [
    {
     "name": "stdout",
     "output_type": "stream",
     "text": [
      "2\n"
     ]
    }
   ],
   "source": [
    "header = None\n",
    "array = np.empty((0,11))\n",
    "print(array.ndim)\n",
    "print\n",
    "with open('image_quality.csv', newline='') as csvfile:\n",
    "    reader = csv.reader(csvfile, delimiter=',')\n",
    "    header =  next(reader)\n",
    "    #print(header)\n",
    "    for line in reader:\n",
    "        array = np.append(array, [line], axis=0)"
   ]
  },
  {
   "cell_type": "code",
   "execution_count": 3,
   "id": "c03b7a6e-5245-4a4c-ab76-8866d9fa16c5",
   "metadata": {},
   "outputs": [],
   "source": [
    "# Contain all read data in separate objects\n",
    "class NetworkData:\n",
    "    def __init__(self, name: str, data: np.ndarray, datalabels: np.ndarray):\n",
    "        self.name = name\n",
    "        self.data = data\n",
    "        self.datalabels = datalabels\n",
    "        self.stats = np.mean(data, axis=0)"
   ]
  },
  {
   "cell_type": "code",
   "execution_count": 4,
   "id": "92c6a511-4124-484d-a0ae-a97496763ce8",
   "metadata": {},
   "outputs": [
    {
     "name": "stdout",
     "output_type": "stream",
     "text": [
      "['DenseNet' 'GoogleNet' 'ResNet' 'SqueezeNet' 'VGG']\n",
      "['fsim', 'lpips', 'psnr', 'ssim', 'brisque', 'niqe', 'piqe']\n"
     ]
    }
   ],
   "source": [
    "# Get unique networks\n",
    "networks = np.unique(array[:,3])\n",
    "print(networks)\n",
    "print (header[4:])"
   ]
  },
  {
   "cell_type": "code",
   "execution_count": 5,
   "id": "29a11d7c-178e-49a0-b574-5962e4194574",
   "metadata": {},
   "outputs": [],
   "source": [
    "data_collection = []"
   ]
  },
  {
   "cell_type": "code",
   "execution_count": 6,
   "id": "705364f3-3fbb-4c77-b9c1-fd8c94b7e0f3",
   "metadata": {},
   "outputs": [],
   "source": [
    "for net in networks:\n",
    "    name = net;\n",
    "    rawdata = array[array[:,3] == net]\n",
    "    data = rawdata[:,4:].astype(float)\n",
    "    datalabels = rawdata[:,0:4]\n",
    "    obj = NetworkData(name, data, datalabels)\n",
    "    data_collection.append(obj)"
   ]
  },
  {
   "cell_type": "code",
   "execution_count": 49,
   "id": "0d2c36de-8d90-46b1-aadd-17a65309c095",
   "metadata": {},
   "outputs": [
    {
     "name": "stdout",
     "output_type": "stream",
     "text": [
      "['fsim', 'lpips', 'psnr', 'ssim']\n",
      "[ 0.74698207  0.58804029 11.50707357  0.40726548] DenseNet\n",
      "[ 0.65997757  0.69004036 10.32890771  0.16571217] GoogleNet\n",
      "[ 0.7659732   0.54137451 11.37940849  0.41752719] ResNet\n",
      "[ 0.79345603  0.55754215 14.7078939   0.30730898] SqueezeNet\n",
      "[ 0.81526032  0.51999968 13.85936687  0.48935377] VGG\n",
      "['brisque', 'niqe', 'piqe']\n",
      "[43.14632314  6.52110172 46.21060197] DenseNet\n",
      "[72.76464895 15.59353564 67.60636853] GoogleNet\n",
      "[54.03096059  6.90023952 52.25544847] ResNet\n",
      "[72.60496216 13.33427292 62.76677184] SqueezeNet\n",
      "[72.96802057 15.8020476  54.20533355] VGG\n"
     ]
    }
   ],
   "source": [
    "#Preview Data\n",
    "print(header[4:8])\n",
    "for x in data_collection:\n",
    "    print(x.stats[0:4], x.name)\n",
    "\n",
    "print(header[8:])\n",
    "for x in data_collection:\n",
    "    print(x.stats[4:], x.name)"
   ]
  },
  {
   "cell_type": "code",
   "execution_count": 48,
   "id": "4d0778f3-2620-4cf2-a772-834198c94c64",
   "metadata": {},
   "outputs": [],
   "source": [
    "#Export Image Data\n",
    "with open('image_analysis.csv', 'w', newline='') as csvfile:\n",
    "    csvwriter = csv.writer(csvfile)\n",
    "    csvwriter.writerow(header[3:])\n",
    "    for x in data_collection:\n",
    "        stats = np.concatenate(([x.name],x.stats))\n",
    "        csvwriter.writerow(stats)"
   ]
  },
  {
   "cell_type": "code",
   "execution_count": null,
   "id": "715ffbdb-f87a-453f-8a3e-32e181e191b2",
   "metadata": {},
   "outputs": [],
   "source": []
  }
 ],
 "metadata": {
  "kernelspec": {
   "display_name": "Python 3 (ipykernel)",
   "language": "python",
   "name": "python3"
  },
  "language_info": {
   "codemirror_mode": {
    "name": "ipython",
    "version": 3
   },
   "file_extension": ".py",
   "mimetype": "text/x-python",
   "name": "python",
   "nbconvert_exporter": "python",
   "pygments_lexer": "ipython3",
   "version": "3.12.9"
  }
 },
 "nbformat": 4,
 "nbformat_minor": 5
}
