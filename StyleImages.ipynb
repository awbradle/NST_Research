{
 "cells": [
  {
   "cell_type": "code",
   "execution_count": 1,
   "id": "f33c5c96-9154-48c6-8a55-6d489dec96ac",
   "metadata": {},
   "outputs": [
    {
     "name": "stdout",
     "output_type": "stream",
     "text": [
      "cuda\n"
     ]
    }
   ],
   "source": [
    "import os, re\n",
    "%run SetupNSTNetworks.py\n",
    "%run TrainNSTNetworks.py\n"
   ]
  },
  {
   "cell_type": "code",
   "execution_count": 2,
   "id": "87908925-db5c-474a-a128-1b5790a3e55f",
   "metadata": {},
   "outputs": [],
   "source": [
    "#Setup image file lists, CNN list\n",
    "content_files = os.listdir(\"./ContentImages/\")\n",
    "CF = []\n",
    "for files in content_files:\n",
    "      if re.match(r\"^[.]\", files) == None:\n",
    "          CF.append(files)\n",
    "style_files = os.listdir(\"./ArtExamples/\")\n",
    "AF = []\n",
    "for files in style_files:\n",
    "      if re.match(r\"^[.]\", files) == None:\n",
    "          AF.append(files)\n",
    "\n",
    "CNNs = [setup_DenseNet(),setup_GoogleNet(),setup_ResNet(),setup_SqueezeNet(),setup_VGG()]\n",
    "#CNNs = [setup_SqueezeNet()]\n"
   ]
  },
  {
   "cell_type": "code",
   "execution_count": null,
   "id": "d0f9a6fe-6163-4e1a-a876-e241a56748b5",
   "metadata": {},
   "outputs": [
    {
     "name": "stdout",
     "output_type": "stream",
     "text": [
      "saved: ./OutputFinal/DenseNet_VG1_Puppy.jpeg\n",
      "saved: ./OutputFinal/DenseNet_LF2_Puppy.jpeg\n",
      "saved: ./OutputFinal/DenseNet_PM2_Puppy.jpeg\n",
      "saved: ./OutputFinal/DenseNet_LF3_Puppy.jpeg\n",
      "saved: ./OutputFinal/DenseNet_VG3_Puppy.jpeg\n",
      "saved: ./OutputFinal/DenseNet_LF1_Puppy.jpeg\n",
      "saved: ./OutputFinal/DenseNet_PM1_Puppy.jpeg\n",
      "saved: ./OutputFinal/DenseNet_PM3_Puppy.jpeg\n",
      "saved: ./OutputFinal/DenseNet_M1_Puppy.jpeg\n",
      "saved: ./OutputFinal/DenseNet_M2_Puppy.jpeg\n",
      "saved: ./OutputFinal/DenseNet_M3_Puppy.jpeg\n"
     ]
    }
   ],
   "source": [
    "#Generate All Images\n",
    "for data in CNNs:\n",
    "    cnn, cnn_normalization_mean, cnn_normalization_std, content_layers, style_layers, style_weight, name, num_steps = data\n",
    "    for content in CF:\n",
    "        contentpath = \"./ContentImages/\" + content\n",
    "        content_img = image_loader(contentpath)\n",
    "        outcontent = re.split(r\"\\.jpeg$\", content)\n",
    "        input_img = content_img.clone()\n",
    "    \n",
    "        for art in AF:\n",
    "            artpath = \"./ArtExamples/\" + art\n",
    "            style_img = image_loader(artpath)\n",
    "            outart = re.split(r\"_.*\\.jpeg$\", art)\n",
    "            outputName = \"./OutputFinal/\" + name + \"_\" + outart[0] + \"_\" + outcontent[0] + \".jpeg\"\n",
    "            output, model = run_style_transfer(cnn, cnn_normalization_mean, cnn_normalization_std,\n",
    "                                content_img, style_img, input_img, content_layers, style_layers,\n",
    "                                style_weight=style_weight, num_steps=num_steps)\n",
    "            \n",
    "            print(\"saved:\",outputName)\n",
    "            save_out = transforms.functional.to_pil_image(input_img.squeeze())\n",
    "            save_out.save(outputName)\n",
    "print(\"Finished\")"
   ]
  },
  {
   "cell_type": "code",
   "execution_count": null,
   "id": "0daa3acf-f911-4d06-bb15-a2216efae8db",
   "metadata": {},
   "outputs": [],
   "source": []
  }
 ],
 "metadata": {
  "kernelspec": {
   "display_name": "Python 3 (ipykernel)",
   "language": "python",
   "name": "python3"
  },
  "language_info": {
   "codemirror_mode": {
    "name": "ipython",
    "version": 3
   },
   "file_extension": ".py",
   "mimetype": "text/x-python",
   "name": "python",
   "nbconvert_exporter": "python",
   "pygments_lexer": "ipython3",
   "version": "3.13.7"
  }
 },
 "nbformat": 4,
 "nbformat_minor": 5
}
