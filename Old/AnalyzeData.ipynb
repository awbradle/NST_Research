{
 "cells": [
  {
   "cell_type": "code",
   "execution_count": 17,
   "id": "0918035e-d412-45a8-a099-95e468988ad6",
   "metadata": {},
   "outputs": [],
   "source": [
    "import matplotlib\n",
    "import numpy as np\n",
    "import csv"
   ]
  },
  {
   "cell_type": "code",
   "execution_count": 18,
   "id": "1c7b672f-13f6-4b8b-919a-99688ab0c04f",
   "metadata": {},
   "outputs": [
    {
     "name": "stdout",
     "output_type": "stream",
     "text": [
      "2\n"
     ]
    }
   ],
   "source": [
    "header = None\n",
    "array = np.empty((0,11))\n",
    "print(array.ndim)\n",
    "print\n",
    "with open('iqs_VG.csv', newline='') as csvfile:\n",
    "    reader = csv.reader(csvfile, delimiter=',')\n",
    "    header =  next(reader)\n",
    "    #print(header)\n",
    "    for line in reader:\n",
    "        array = np.append(array, [line], axis=0)"
   ]
  },
  {
   "cell_type": "code",
   "execution_count": 19,
   "id": "c03b7a6e-5245-4a4c-ab76-8866d9fa16c5",
   "metadata": {},
   "outputs": [],
   "source": [
    "# Contain all read data in separate objects\n",
    "class NetworkData:\n",
    "    def __init__(self, name: str, data: np.ndarray, datalabels: np.ndarray):\n",
    "        self.name = name\n",
    "        self.data = data\n",
    "        self.datalabels = datalabels\n",
    "        self.stats = np.mean(data, axis=0)"
   ]
  },
  {
   "cell_type": "code",
   "execution_count": 20,
   "id": "92c6a511-4124-484d-a0ae-a97496763ce8",
   "metadata": {},
   "outputs": [
    {
     "name": "stdout",
     "output_type": "stream",
     "text": [
      "['DenseNet' 'GoogleNet' 'ResNet' 'SqueezeNet' 'VGG']\n",
      "['fsim', 'lpips', 'psnr', 'ssim', 'brisque', 'niqe', 'piqe']\n"
     ]
    }
   ],
   "source": [
    "# Get unique networks\n",
    "networks = np.unique(array[:,3])\n",
    "print(networks)\n",
    "print (header[4:])"
   ]
  },
  {
   "cell_type": "code",
   "execution_count": 21,
   "id": "29a11d7c-178e-49a0-b574-5962e4194574",
   "metadata": {},
   "outputs": [],
   "source": [
    "data_collection = []"
   ]
  },
  {
   "cell_type": "code",
   "execution_count": 22,
   "id": "705364f3-3fbb-4c77-b9c1-fd8c94b7e0f3",
   "metadata": {},
   "outputs": [],
   "source": [
    "for net in networks:\n",
    "    name = net;\n",
    "    rawdata = array[array[:,3] == net]\n",
    "    data = rawdata[:,4:].astype(float)\n",
    "    datalabels = rawdata[:,0:4]\n",
    "    obj = NetworkData(name, data, datalabels)\n",
    "    data_collection.append(obj)"
   ]
  },
  {
   "cell_type": "code",
   "execution_count": 23,
   "id": "0d2c36de-8d90-46b1-aadd-17a65309c095",
   "metadata": {
    "scrolled": true
   },
   "outputs": [
    {
     "name": "stdout",
     "output_type": "stream",
     "text": [
      "['fsim', 'lpips', 'psnr', 'ssim']\n",
      "[ 0.80818962  0.44392222 15.42075753  0.55160521] DenseNet\n",
      "[ 0.83319622  0.39837445 15.63246083  0.53482243] GoogleNet\n",
      "[ 0.83997187  0.33732405 18.99799919  0.68699755] ResNet\n",
      "[ 0.83864106  0.38709911 17.08577299  0.53587143] SqueezeNet\n",
      "[ 0.82913299  0.38908079 17.72900581  0.68525062] VGG\n",
      "['brisque', 'niqe', 'piqe']\n",
      "[29.79388428  4.56196561 37.10438251] DenseNet\n",
      "[13.13026428  4.99235015 48.52858639] GoogleNet\n",
      "[15.07119751  3.63361433 23.55344868] ResNet\n",
      "[ 9.51255798  4.86913903 49.60888767] SqueezeNet\n",
      "[19.4072876   3.78814863 23.42786455] VGG\n"
     ]
    }
   ],
   "source": [
    "#Preview Data\n",
    "print(header[4:8])\n",
    "for x in data_collection:\n",
    "    print(x.stats[0:4], x.name)\n",
    "\n",
    "print(header[8:])\n",
    "for x in data_collection:\n",
    "    print(x.stats[4:], x.name)"
   ]
  },
  {
   "cell_type": "code",
   "execution_count": 24,
   "id": "4d0778f3-2620-4cf2-a772-834198c94c64",
   "metadata": {},
   "outputs": [],
   "source": [
    "#Export Image Data\n",
    "with open('image_analysVG.csv', 'w', newline='') as csvfile:\n",
    "    csvwriter = csv.writer(csvfile)\n",
    "    csvwriter.writerow(header[3:])\n",
    "    for x in data_collection:\n",
    "        stats = np.concatenate(([x.name],x.stats))\n",
    "        csvwriter.writerow(stats)"
   ]
  },
  {
   "cell_type": "code",
   "execution_count": null,
   "id": "715ffbdb-f87a-453f-8a3e-32e181e191b2",
   "metadata": {},
   "outputs": [],
   "source": []
  },
  {
   "cell_type": "code",
   "execution_count": null,
   "id": "f8bdf525-7721-4c5a-8134-35305c319689",
   "metadata": {},
   "outputs": [],
   "source": []
  }
 ],
 "metadata": {
  "kernelspec": {
   "display_name": "Python 3 (ipykernel)",
   "language": "python",
   "name": "python3"
  },
  "language_info": {
   "codemirror_mode": {
    "name": "ipython",
    "version": 3
   },
   "file_extension": ".py",
   "mimetype": "text/x-python",
   "name": "python",
   "nbconvert_exporter": "python",
   "pygments_lexer": "ipython3",
   "version": "3.13.7"
  }
 },
 "nbformat": 4,
 "nbformat_minor": 5
}
